{
 "cells": [
  {
   "cell_type": "markdown",
   "id": "exterior-british",
   "metadata": {},
   "source": [
    "# Creating Ridge Plots from FlowJo exported Flow Cytometry Histograms"
   ]
  },
  {
   "cell_type": "code",
   "execution_count": 332,
   "id": "heavy-lambda",
   "metadata": {},
   "outputs": [],
   "source": [
    "# Directory stuff\n",
    "import os\n",
    "\n",
    "# Dataframe stuff\n",
    "import pandas as pd\n",
    "import numpy as np\n",
    "\n",
    "# Viz stuff\n",
    "import seaborn as sns\n",
    "from matplotlib import pyplot as plt"
   ]
  },
  {
   "cell_type": "code",
   "execution_count": 87,
   "id": "retained-firewall",
   "metadata": {},
   "outputs": [],
   "source": [
    "%matplotlib inline"
   ]
  },
  {
   "cell_type": "markdown",
   "id": "equipped-jacket",
   "metadata": {},
   "source": [
    "## Loading Data\n",
    "\n",
    "1. **ISSUE**: FlowJo does not let you name subpopulations and is absolutely useless in this area.\n",
    "    1. Workaround: create your own keyword and add the sample name in here. You can choose this keyword when setting file naming patterns.\n",
    "2. Load all csvs in a directory, use file name to name sample name.\n",
    "    1. **ISSUE**: Naming files with things like \"0.5\" breaks file. Tried using \"1:2\" to represent this idea. Probably want to use \"0,5\" instead next time because FlowJo output \"1:2ul\" as \"12ul\"\n",
    "3. Convert into tidy format\n",
    "4. Concatenate together into single experiment dataframe"
   ]
  },
  {
   "cell_type": "markdown",
   "id": "sublime-spain",
   "metadata": {},
   "source": [
    "## Single Sample Loading (Testing)"
   ]
  },
  {
   "cell_type": "code",
   "execution_count": 259,
   "id": "bulgarian-responsibility",
   "metadata": {},
   "outputs": [
    {
     "data": {
      "text/html": [
       "<div>\n",
       "<style scoped>\n",
       "    .dataframe tbody tr th:only-of-type {\n",
       "        vertical-align: middle;\n",
       "    }\n",
       "\n",
       "    .dataframe tbody tr th {\n",
       "        vertical-align: top;\n",
       "    }\n",
       "\n",
       "    .dataframe thead th {\n",
       "        text-align: right;\n",
       "    }\n",
       "</style>\n",
       "<table border=\"1\" class=\"dataframe\">\n",
       "  <thead>\n",
       "    <tr style=\"text-align: right;\">\n",
       "      <th></th>\n",
       "      <th>FITC-A</th>\n",
       "      <th>Time</th>\n",
       "    </tr>\n",
       "  </thead>\n",
       "  <tbody>\n",
       "    <tr>\n",
       "      <th>0</th>\n",
       "      <td>5544.7</td>\n",
       "      <td>0.566551</td>\n",
       "    </tr>\n",
       "    <tr>\n",
       "      <th>1</th>\n",
       "      <td>22099.7</td>\n",
       "      <td>0.568646</td>\n",
       "    </tr>\n",
       "    <tr>\n",
       "      <th>2</th>\n",
       "      <td>15812.3</td>\n",
       "      <td>0.569693</td>\n",
       "    </tr>\n",
       "    <tr>\n",
       "      <th>3</th>\n",
       "      <td>26119.1</td>\n",
       "      <td>0.570740</td>\n",
       "    </tr>\n",
       "    <tr>\n",
       "      <th>4</th>\n",
       "      <td>1348.2</td>\n",
       "      <td>0.571788</td>\n",
       "    </tr>\n",
       "    <tr>\n",
       "      <th>5</th>\n",
       "      <td>4442.9</td>\n",
       "      <td>0.578071</td>\n",
       "    </tr>\n",
       "    <tr>\n",
       "      <th>6</th>\n",
       "      <td>6129.9</td>\n",
       "      <td>0.579118</td>\n",
       "    </tr>\n",
       "    <tr>\n",
       "      <th>7</th>\n",
       "      <td>3657.5</td>\n",
       "      <td>0.585402</td>\n",
       "    </tr>\n",
       "    <tr>\n",
       "      <th>8</th>\n",
       "      <td>8145.9</td>\n",
       "      <td>0.586449</td>\n",
       "    </tr>\n",
       "    <tr>\n",
       "      <th>9</th>\n",
       "      <td>5981.5</td>\n",
       "      <td>0.587496</td>\n",
       "    </tr>\n",
       "  </tbody>\n",
       "</table>\n",
       "</div>"
      ],
      "text/plain": [
       "    FITC-A      Time\n",
       "0   5544.7  0.566551\n",
       "1  22099.7  0.568646\n",
       "2  15812.3  0.569693\n",
       "3  26119.1  0.570740\n",
       "4   1348.2  0.571788\n",
       "5   4442.9  0.578071\n",
       "6   6129.9  0.579118\n",
       "7   3657.5  0.585402\n",
       "8   8145.9  0.586449\n",
       "9   5981.5  0.587496"
      ]
     },
     "execution_count": 259,
     "metadata": {},
     "output_type": "execute_result"
    }
   ],
   "source": [
    "data = pd.read_csv(\"/Users/adrian/code/lab/tc_tools/inputs/L16 QKRR 8ul.csv\")\n",
    "data.head(10)"
   ]
  },
  {
   "cell_type": "markdown",
   "id": "numerous-income",
   "metadata": {},
   "source": [
    "# Single Histogram plotting (testing)\n",
    "\n",
    "1. Export Sample > Alive > Singles from FlowJo as **FITC-A vs Time**\n",
    "2. **DO NOT** export as histogram. Trying to regraph their binned data causes issues.\n",
    "3. Use log-scale on FITC-A axis and set bins=256"
   ]
  },
  {
   "cell_type": "code",
   "execution_count": 181,
   "id": "armed-budapest",
   "metadata": {},
   "outputs": [
    {
     "data": {
      "text/plain": [
       "[<matplotlib.axis.XTick at 0x1328ef400>,\n",
       " <matplotlib.axis.XTick at 0x1328ef520>,\n",
       " <matplotlib.axis.XTick at 0x131a0fb50>,\n",
       " <matplotlib.axis.XTick at 0x132fb7130>,\n",
       " <matplotlib.axis.XTick at 0x132fb7640>]"
      ]
     },
     "execution_count": 181,
     "metadata": {},
     "output_type": "execute_result"
    },
    {
     "data": {
      "image/png": "[encoded data removed]",
      "text/plain": [
       "<Figure size 432x288 with 1 Axes>"
      ]
     },
     "metadata": {
      "needs_background": "light"
     },
     "output_type": "display_data"
    }
   ],
   "source": [
    "fig,axs = plt.subplots()\n",
    "sns.histplot(ax=axs,data=g,x=\"FITC-A\",log_scale=True,bins=256)\n",
    "axs.set_xticks([1e1,1e2,1e3,1e4,1e5])"
   ]
  },
  {
   "cell_type": "markdown",
   "id": "lovely-institute",
   "metadata": {},
   "source": [
    "## Directory Loading"
   ]
  },
  {
   "cell_type": "code",
   "execution_count": 333,
   "id": "expected-colon",
   "metadata": {},
   "outputs": [],
   "source": [
    "flow_dir = \"/Users/Adrian/Documents/research/flow\"\n",
    "export_dir = \"exports\"\n",
    "\n",
    "# This is the experiment directory you choose\n",
    "exp_dir = \"2021 12-21 jurkat exp check\"\n",
    "csv_dir= f\"{flow_dir}/{exp_dir}/{export_dir}\""
   ]
  },
  {
   "cell_type": "code",
   "execution_count": 167,
   "id": "pleasant-cassette",
   "metadata": {},
   "outputs": [],
   "source": [
    "# Loads in CSVs and creates Sample column to concatenate CSVs in tidy format\n",
    "def load_csvs(csv_dir):\n",
    "    csvs = [f for f in os.listdir(csv_dir) if f.endswith(\".csv\")]\n",
    "    \n",
    "    dfs = []\n",
    "    for csv in csvs:\n",
    "        sample_name = csv.split(\".\")[0]\n",
    "        df = pd.read_csv(f\"{csv_dir}/{csv}\")\n",
    "        rows = df.shape[0]\n",
    "        df[\"Sample\"] = [sample_name]*rows\n",
    "        dfs.append(df)\n",
    "    exp_df = pd.concat(dfs,ignore_index=True)\n",
    "    return exp_df"
   ]
  },
  {
   "cell_type": "code",
   "execution_count": 168,
   "id": "underlying-creature",
   "metadata": {},
   "outputs": [],
   "source": [
    "exp_df = load_csvs(csv_dir)"
   ]
  },
  {
   "cell_type": "code",
   "execution_count": 311,
   "id": "interested-round",
   "metadata": {
    "collapsed": true
   },
   "outputs": [
    {
     "data": {
      "text/html": [
       "<div>\n",
       "<style scoped>\n",
       "    .dataframe tbody tr th:only-of-type {\n",
       "        vertical-align: middle;\n",
       "    }\n",
       "\n",
       "    .dataframe tbody tr th {\n",
       "        vertical-align: top;\n",
       "    }\n",
       "\n",
       "    .dataframe thead th {\n",
       "        text-align: right;\n",
       "    }\n",
       "</style>\n",
       "<table border=\"1\" class=\"dataframe\">\n",
       "  <thead>\n",
       "    <tr style=\"text-align: right;\">\n",
       "      <th></th>\n",
       "      <th>FITC-A</th>\n",
       "      <th>Time</th>\n",
       "      <th>Sample</th>\n",
       "    </tr>\n",
       "  </thead>\n",
       "  <tbody>\n",
       "    <tr>\n",
       "      <th>0</th>\n",
       "      <td>20371.4</td>\n",
       "      <td>0.508186</td>\n",
       "      <td>L16 E34</td>\n",
       "    </tr>\n",
       "    <tr>\n",
       "      <th>1</th>\n",
       "      <td>17880.8</td>\n",
       "      <td>0.512243</td>\n",
       "      <td>L16 E34</td>\n",
       "    </tr>\n",
       "    <tr>\n",
       "      <th>2</th>\n",
       "      <td>5837.3</td>\n",
       "      <td>0.514272</td>\n",
       "      <td>L16 E34</td>\n",
       "    </tr>\n",
       "    <tr>\n",
       "      <th>3</th>\n",
       "      <td>27633.2</td>\n",
       "      <td>0.525430</td>\n",
       "      <td>L16 E34</td>\n",
       "    </tr>\n",
       "    <tr>\n",
       "      <th>4</th>\n",
       "      <td>16207.1</td>\n",
       "      <td>0.545716</td>\n",
       "      <td>L16 E34</td>\n",
       "    </tr>\n",
       "    <tr>\n",
       "      <th>...</th>\n",
       "      <td>...</td>\n",
       "      <td>...</td>\n",
       "      <td>...</td>\n",
       "    </tr>\n",
       "    <tr>\n",
       "      <th>143824</th>\n",
       "      <td>10818.5</td>\n",
       "      <td>21.568200</td>\n",
       "      <td>L16 QKRR Hi</td>\n",
       "    </tr>\n",
       "    <tr>\n",
       "      <th>143825</th>\n",
       "      <td>8450.4</td>\n",
       "      <td>21.568200</td>\n",
       "      <td>L16 QKRR Hi</td>\n",
       "    </tr>\n",
       "    <tr>\n",
       "      <th>143826</th>\n",
       "      <td>3182.2</td>\n",
       "      <td>21.573500</td>\n",
       "      <td>L16 QKRR Hi</td>\n",
       "    </tr>\n",
       "    <tr>\n",
       "      <th>143827</th>\n",
       "      <td>3894.1</td>\n",
       "      <td>21.574600</td>\n",
       "      <td>L16 QKRR Hi</td>\n",
       "    </tr>\n",
       "    <tr>\n",
       "      <th>143828</th>\n",
       "      <td>9732.8</td>\n",
       "      <td>21.579900</td>\n",
       "      <td>L16 QKRR Hi</td>\n",
       "    </tr>\n",
       "  </tbody>\n",
       "</table>\n",
       "<p>143829 rows × 3 columns</p>\n",
       "</div>"
      ],
      "text/plain": [
       "         FITC-A       Time       Sample\n",
       "0       20371.4   0.508186      L16 E34\n",
       "1       17880.8   0.512243      L16 E34\n",
       "2        5837.3   0.514272      L16 E34\n",
       "3       27633.2   0.525430      L16 E34\n",
       "4       16207.1   0.545716      L16 E34\n",
       "...         ...        ...          ...\n",
       "143824  10818.5  21.568200  L16 QKRR Hi\n",
       "143825   8450.4  21.568200  L16 QKRR Hi\n",
       "143826   3182.2  21.573500  L16 QKRR Hi\n",
       "143827   3894.1  21.574600  L16 QKRR Hi\n",
       "143828   9732.8  21.579900  L16 QKRR Hi\n",
       "\n",
       "[143829 rows x 3 columns]"
      ]
     },
     "execution_count": 311,
     "metadata": {},
     "output_type": "execute_result"
    }
   ],
   "source": [
    "exp_df"
   ]
  },
  {
   "cell_type": "markdown",
   "id": "retired-campbell",
   "metadata": {},
   "source": [
    "## Break down name into descriptive columns\n",
    "\n",
    "1. Programmatically tokenize sample name into individual columns:\n",
    "    1. L16 QKRR 8ul --> Lag Binder, CAM name, Virus Concentration\n",
    "    2. **Issues** we need to adapt this for different situations, can't do it unsupervised (I don't think?)\n",
    "    3. Standardized naming convention? Just fill in missing data"
   ]
  },
  {
   "cell_type": "markdown",
   "id": "featured-tolerance",
   "metadata": {},
   "source": [
    "## Subsetting DF"
   ]
  },
  {
   "cell_type": "code",
   "execution_count": 330,
   "id": "impossible-remove",
   "metadata": {
    "scrolled": true
   },
   "outputs": [
    {
     "data": {
      "text/html": [
       "<div>\n",
       "<style scoped>\n",
       "    .dataframe tbody tr th:only-of-type {\n",
       "        vertical-align: middle;\n",
       "    }\n",
       "\n",
       "    .dataframe tbody tr th {\n",
       "        vertical-align: top;\n",
       "    }\n",
       "\n",
       "    .dataframe thead th {\n",
       "        text-align: right;\n",
       "    }\n",
       "</style>\n",
       "<table border=\"1\" class=\"dataframe\">\n",
       "  <thead>\n",
       "    <tr style=\"text-align: right;\">\n",
       "      <th></th>\n",
       "      <th>FITC-A</th>\n",
       "      <th>Time</th>\n",
       "      <th>Sample</th>\n",
       "      <th>Lag Binder</th>\n",
       "      <th>CAM</th>\n",
       "      <th>Virus Conc</th>\n",
       "    </tr>\n",
       "  </thead>\n",
       "  <tbody>\n",
       "    <tr>\n",
       "      <th>0</th>\n",
       "      <td>20371.4</td>\n",
       "      <td>0.508186</td>\n",
       "      <td>L16 E34</td>\n",
       "      <td>L16</td>\n",
       "      <td>E34</td>\n",
       "      <td>None</td>\n",
       "    </tr>\n",
       "    <tr>\n",
       "      <th>1</th>\n",
       "      <td>17880.8</td>\n",
       "      <td>0.512243</td>\n",
       "      <td>L16 E34</td>\n",
       "      <td>L16</td>\n",
       "      <td>E34</td>\n",
       "      <td>None</td>\n",
       "    </tr>\n",
       "    <tr>\n",
       "      <th>2</th>\n",
       "      <td>5837.3</td>\n",
       "      <td>0.514272</td>\n",
       "      <td>L16 E34</td>\n",
       "      <td>L16</td>\n",
       "      <td>E34</td>\n",
       "      <td>None</td>\n",
       "    </tr>\n",
       "    <tr>\n",
       "      <th>3</th>\n",
       "      <td>27633.2</td>\n",
       "      <td>0.525430</td>\n",
       "      <td>L16 E34</td>\n",
       "      <td>L16</td>\n",
       "      <td>E34</td>\n",
       "      <td>None</td>\n",
       "    </tr>\n",
       "    <tr>\n",
       "      <th>4</th>\n",
       "      <td>16207.1</td>\n",
       "      <td>0.545716</td>\n",
       "      <td>L16 E34</td>\n",
       "      <td>L16</td>\n",
       "      <td>E34</td>\n",
       "      <td>None</td>\n",
       "    </tr>\n",
       "    <tr>\n",
       "      <th>5</th>\n",
       "      <td>9055.9</td>\n",
       "      <td>0.555860</td>\n",
       "      <td>L16 E34</td>\n",
       "      <td>L16</td>\n",
       "      <td>E34</td>\n",
       "      <td>None</td>\n",
       "    </tr>\n",
       "    <tr>\n",
       "      <th>6</th>\n",
       "      <td>20107.5</td>\n",
       "      <td>0.576147</td>\n",
       "      <td>L16 E34</td>\n",
       "      <td>L16</td>\n",
       "      <td>E34</td>\n",
       "      <td>None</td>\n",
       "    </tr>\n",
       "    <tr>\n",
       "      <th>7</th>\n",
       "      <td>22719.2</td>\n",
       "      <td>0.581218</td>\n",
       "      <td>L16 E34</td>\n",
       "      <td>L16</td>\n",
       "      <td>E34</td>\n",
       "      <td>None</td>\n",
       "    </tr>\n",
       "    <tr>\n",
       "      <th>8</th>\n",
       "      <td>7875.7</td>\n",
       "      <td>0.586290</td>\n",
       "      <td>L16 E34</td>\n",
       "      <td>L16</td>\n",
       "      <td>E34</td>\n",
       "      <td>None</td>\n",
       "    </tr>\n",
       "    <tr>\n",
       "      <th>9</th>\n",
       "      <td>40397.0</td>\n",
       "      <td>0.611649</td>\n",
       "      <td>L16 E34</td>\n",
       "      <td>L16</td>\n",
       "      <td>E34</td>\n",
       "      <td>None</td>\n",
       "    </tr>\n",
       "  </tbody>\n",
       "</table>\n",
       "</div>"
      ],
      "text/plain": [
       "    FITC-A      Time   Sample Lag Binder  CAM Virus Conc\n",
       "0  20371.4  0.508186  L16 E34        L16  E34       None\n",
       "1  17880.8  0.512243  L16 E34        L16  E34       None\n",
       "2   5837.3  0.514272  L16 E34        L16  E34       None\n",
       "3  27633.2  0.525430  L16 E34        L16  E34       None\n",
       "4  16207.1  0.545716  L16 E34        L16  E34       None\n",
       "5   9055.9  0.555860  L16 E34        L16  E34       None\n",
       "6  20107.5  0.576147  L16 E34        L16  E34       None\n",
       "7  22719.2  0.581218  L16 E34        L16  E34       None\n",
       "8   7875.7  0.586290  L16 E34        L16  E34       None\n",
       "9  40397.0  0.611649  L16 E34        L16  E34       None"
      ]
     },
     "execution_count": 330,
     "metadata": {},
     "output_type": "execute_result"
    }
   ],
   "source": [
    "subset = pd.DataFrame(exp_df)\n",
    "\n",
    "# NOTE: files couldnt handle 0.5ul so i wrote 1:2 ul but then pandas loaded it as 12ul -___-                \n",
    "split_df = subset[\"Sample\"].str.split(\" \",expand=True)  \n",
    "subset[[\"Lag Binder\",\"CAM\", \"Virus Conc\"]] = split_df\n",
    "subset.head(10)"
   ]
  },
  {
   "cell_type": "markdown",
   "id": "mathematical-broadcasting",
   "metadata": {},
   "source": [
    "## New Ridgeplot (WIP)"
   ]
  },
  {
   "cell_type": "code",
   "execution_count": 301,
   "id": "dominican-referral",
   "metadata": {},
   "outputs": [],
   "source": [
    "def ridgeplot(df,by):\n",
    "    # TODO: get more colors?\n",
    "    # List of separable colors\n",
    "    colors = ['#e6194b', '#3cb44b', '#ffe119', '#4363d8', '#f58231', \n",
    "          '#911eb4', '#46f0f0', '#f032e6', '#bcf60c', '#fabebe', \n",
    "          '#008080', '#e6beff', '#9a6324', '#fffac8', '#800000', \n",
    "          '#aaffc3', '#808000', '#ffd8b1', '#000075', '#808080']\n",
    "    samples = df.groupby(by)\n",
    "    num_samples = len(samples)\n",
    "    overlap=0.5\n",
    "\n",
    "    # TODO: figsize scaled by number and spacing of overlap\n",
    "    # TODO: add a title\n",
    "    fig,axs = plt.subplots(num_samples,figsize=(10,10+num_samples*overlap))\n",
    "    for i,sample in enumerate(samples):\n",
    "        sample_name, sample_df = sample\n",
    "        kde_line = sns.kdeplot(data=sample_df,ax=axs[i],x=\"FITC-A\",log_scale=True,\n",
    "                   bw_adjust=0.3,color=colors[i],fill=True)\n",
    "        axs[i].set_xticks([1e0,1e1,1e2,1e4,1e5,1e6])\n",
    "\n",
    "        # TODO: change line color\n",
    "        # TODO: change fill color\n",
    "\n",
    "        # Set the background transparent\n",
    "        axs[i].patch.set_alpha(0)\n",
    "\n",
    "        # Turns off the axes for everything EXCEPT the last one\n",
    "        if i != num_samples-1:\n",
    "            axs[i].axis(\"off\")\n",
    "\n",
    "        # Last axes just disable y label and ticks\n",
    "        axs[i].set_ylabel(\"\")    \n",
    "        axs[i].tick_params(\n",
    "        axis='y',          # changes apply to the x-axis\n",
    "        which='both',      # both major and minor ticks are affected\n",
    "        left=False,\n",
    "        labelleft=False) # labels along the bottom edge are off\n",
    "\n",
    "        # Remove all spines    \n",
    "        spines = [\"left\",\"top\",\"right\",\"bottom\"]\n",
    "        for spine in spines:\n",
    "            axs[i].spines[spine].set_visible(False)\n",
    "\n",
    "        # Sample labels\n",
    "        # transform places coords wrt each axes\n",
    "        axs[i].text(-0.1,0.1,sample_name,fontweight=\"bold\",fontsize=24,color=colors[i],transform=axs[i].transAxes)\n",
    "        #print(i,colors[i])\n",
    "    # Overlap subplots\n",
    "    plt.subplots_adjust(hspace=-overlap)\n",
    "    plt.show()    \n",
    "    \n",
    "    # TODO: return a plot that can be grouped together with other plots? maybe?"
   ]
  },
  {
   "cell_type": "code",
   "execution_count": 298,
   "id": "unlimited-grass",
   "metadata": {},
   "outputs": [
    {
     "name": "stderr",
     "output_type": "stream",
     "text": [
      "/Users/adrian/code/lab/tc_tools/lib/python3.9/site-packages/pandas/core/arraylike.py:358: RuntimeWarning: invalid value encountered in log10\n",
      "  result = getattr(ufunc, method)(*inputs, **kwargs)\n"
     ]
    },
    {
     "data": {
      "image/png": "[encoded data removed]",
      "text/plain": [
       "<Figure size 720x972 with 7 Axes>"
      ]
     },
     "metadata": {
      "needs_background": "light"
     },
     "output_type": "display_data"
    }
   ],
   "source": [
    "ridgeplot(lag16_qkrr,\"Sample\")"
   ]
  },
  {
   "cell_type": "markdown",
   "id": "hairy-hydrogen",
   "metadata": {},
   "source": [
    "## Old RidgePlot"
   ]
  },
  {
   "cell_type": "code",
   "execution_count": 11,
   "id": "underlying-netscape",
   "metadata": {},
   "outputs": [],
   "source": [
    "def ridge_plot(df):\n",
    "    sns.set_style(\"white\")\n",
    "    # List of separable colors\n",
    "    colors = ['#e6194b', '#3cb44b', '#ffe119', '#4363d8', '#f58231', \n",
    "          '#911eb4', '#46f0f0', '#f032e6', '#bcf60c', '#fabebe', \n",
    "          '#008080', '#e6beff', '#9a6324', '#fffac8', '#800000', \n",
    "          '#aaffc3', '#808000', '#ffd8b1', '#000075', '#808080']\n",
    "    \n",
    "    # FlowJo seems to give populations as columns and bins is fluoresence intensities corrected and binned?\n",
    "    populations = [col for col in df.columns]\n",
    "    rows = len(populations)\n",
    "    \n",
    "    #print(f\"Generating {rows} rows in figure...\")\n",
    "    # Create figure rows based on number of populations\n",
    "    fig,axs = plt.subplots(rows,1,figsize=(20,10))\n",
    "\n",
    "    # NOTE: this could probably be done with a groupby\n",
    "    # Need to iterate over populations\n",
    "    for i,pop in enumerate(populations):\n",
    "        #print(i,pop)\n",
    "        \n",
    "        # White line for density to make boundaries pop more\n",
    "        plot = df[pop].plot.kde(ax=axs[i],color=\"white\", linewidth=2)\n",
    "\n",
    "        # Fill under graph with different color\n",
    "        x = plot.get_children()[0]._x\n",
    "        y = plot.get_children()[0]._y\n",
    "        axs[i].fill_between(x,y,color=colors[i])\n",
    "\n",
    "        # Set the background transparent\n",
    "        axs[i].patch.set_alpha(0)\n",
    "\n",
    "        # Remove y ticks and y labels\n",
    "        axs[i].set_yticklabels([])\n",
    "        axs[i].set_ylabel(\"\")\n",
    "        # Remove x ticks except for bottom subplot\n",
    "        if i != rows-1:\n",
    "            axs[i].set_xticklabels([])\n",
    "\n",
    "        # Remove all spines    \n",
    "        spines = [\"left\",\"top\",\"right\",\"bottom\"]\n",
    "        for spine in spines:\n",
    "            axs[i].spines[spine].set_visible(False)\n",
    "        \n",
    "        # TODO: I've only been able to adjust this position hardcoded, find solution\n",
    "        # New Y labels\n",
    "        axs[i].text(-2,0,pop,fontweight=\"bold\",fontsize=24,ha=\"right\")\n",
    "        \n",
    "        #xmin,xmax = -10,15\n",
    "        #xmin = min(df[pop])\n",
    "        #xmax = max(df[pop])\n",
    "        #print(f\"Min :{xmin} Max :{xmax}\")\n",
    "        #axs[i].set_xlim(xmin,xmax)\n",
    "        #manual_xticks = [-10e3,-10e2,-10,0,10,10e2,10e3,10e4,10e5]\n",
    "        #axs[i].set_xticks(manual_xticks)\n",
    "#        axs[i].set_xscale(\"log\")\n",
    "    # Overlap subplots\n",
    "    plt.subplots_adjust(hspace=-0.5)\n",
    "    plt.show()"
   ]
  },
  {
   "cell_type": "code",
   "execution_count": 12,
   "id": "irish-referral",
   "metadata": {},
   "outputs": [
    {
     "data": {
      "image/png": "[encoded data removed]",
      "text/plain": [
       "<Figure size 1440x720 with 4 Axes>"
      ]
     },
     "metadata": {},
     "output_type": "display_data"
    }
   ],
   "source": [
    "ridge_plot(data)"
   ]
  }
 ],
 "metadata": {
  "kernelspec": {
   "display_name": "Python 3",
   "language": "python",
   "name": "python3"
  },
  "language_info": {
   "codemirror_mode": {
    "name": "ipython",
    "version": 3
   },
   "file_extension": ".py",
   "mimetype": "text/x-python",
   "name": "python",
   "nbconvert_exporter": "python",
   "pygments_lexer": "ipython3",
   "version": "3.9.8"
  }
 },
 "nbformat": 4,
 "nbformat_minor": 5
}
