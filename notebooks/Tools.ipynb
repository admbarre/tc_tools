{
 "cells": [
  {
   "cell_type": "markdown",
   "id": "rough-architecture",
   "metadata": {},
   "source": [
    "# Tools\n",
    "---\n",
    "\n",
    "I want to collect a series of tools to aid with documenting and carrying out all of my protocols"
   ]
  },
  {
   "cell_type": "markdown",
   "id": "internal-symbol",
   "metadata": {},
   "source": [
    "# Shear Flow Assay (On/Off Rates)\n",
    "---\n",
    "1. Set up chips/lanes with populations\n",
    "2. Count cells\n",
    "3. Pool Cells\n",
    "4. Run assay\n",
    "5. Take notes\n",
    "6. Pre-process images\n",
    "7. Annotate\n",
    "8. Analyze\n",
    "9. Visualize\n",
    "10. Report"
   ]
  },
  {
   "cell_type": "markdown",
   "id": "specified-broadway",
   "metadata": {},
   "source": [
    "## Example:\n",
    "\n",
    "10/28/21\n",
    "On Rates\n",
    "General: Comparing binding of ICAM across Lag Binder series\n",
    "Chip Setup:\n",
    "\n",
    "Chip 1:\n",
    "LN1: Jurkat Lag16ICAM Lag17ICAM\n",
    "LN2: Jurkat Lag16ICAM Lag17ICAM\n",
    "LN3: Jurkat Lag16ICAM Lag42ICAM\n",
    "LN4: Jurkat Lag16ICAM Lag42ICAM\n",
    "LN5: Jurkat Lag16ICAM Lag18ICAM\n",
    "LN6: Jurkat Lag16ICAM Lag18ICAM\n",
    "\n",
    "* I want to be able to specify:\n",
    "    + Population to test (1 cell, 2 cell, 3 cell)\n",
    "    + How many runs (duplicate, triplicate)\n",
    "* Program then prompts for **cell concentration and volumes**\n",
    "    + calculate how many runs you can get at desired target concentration"
   ]
  },
  {
   "cell_type": "code",
   "execution_count": 1,
   "id": "integral-mortality",
   "metadata": {},
   "outputs": [],
   "source": [
    "import math"
   ]
  },
  {
   "cell_type": "code",
   "execution_count": null,
   "id": "natural-judgment",
   "metadata": {},
   "outputs": [],
   "source": [
    "exp1 = [\"jurkat\", \"lag16ic\", \"lag17ic\"]\n",
    "exp2 = [\"jurkat\", \"lag16ic\", \"lag42ic\"]\n",
    "exp3 = [\"jurkat\", \"lag16ic\", \"lag18ic\"]\n",
    "\n",
    "experiments = exp1 + exp2 + exp3\n",
    "counts = Counter(experiments)\n",
    "counts"
   ]
  },
  {
   "cell_type": "code",
   "execution_count": null,
   "id": "female-addition",
   "metadata": {},
   "outputs": [],
   "source": [
    "e = []\n",
    "a = [\"x\", \"y\", \"z\"]\n",
    "b = [\"x\", \"y\"]\n",
    "c = [\"w\"]\n",
    "\n",
    "e.append(a)\n",
    "e.append(b)\n",
    "e.append(c)\n",
    "e"
   ]
  },
  {
   "cell_type": "code",
   "execution_count": null,
   "id": "consistent-student",
   "metadata": {},
   "outputs": [],
   "source": [
    "flat_exps = [c for exp in e for c in exp]\n",
    "flat_exps"
   ]
  },
  {
   "cell_type": "code",
   "execution_count": null,
   "id": "unauthorized-gather",
   "metadata": {},
   "outputs": [],
   "source": [
    "experiments"
   ]
  },
  {
   "cell_type": "code",
   "execution_count": 2,
   "id": "controlling-patio",
   "metadata": {},
   "outputs": [
    {
     "name": "stdout",
     "output_type": "stream",
     "text": [
      "Add new exp? [Y/N]y\n",
      "Enter cell populations separated by spaces:jurkat lag16ic_tether lag16ic\n",
      "Replicates? [1-3]2\n",
      "Add new exp? [Y/N]y\n",
      "Enter cell populations separated by spaces:jurkat ncam\n",
      "Replicates? [1-3]1\n",
      "Add new exp? [Y/N]n\n"
     ]
    }
   ],
   "source": [
    "adding_new_exp = True\n",
    "experiments = [] # How to fix this anti pattern\n",
    "\n",
    "# Need better input UI to avoid typos and shit\n",
    "# should only be able to add from a bank of validated cell names\n",
    "while adding_new_exp:\n",
    "    yes_no = input(\"Add new exp? [Y/N]\")\n",
    "    if yes_no.lower() == \"n\":\n",
    "        adding_new_exp = False\n",
    "        break\n",
    "    \n",
    "    cells = input(\"Enter cell populations separated by spaces:\").split(\" \")\n",
    "    replicates = int(input(\"Replicates? [1-3]\"))\n",
    "    for i in range(replicates):\n",
    "        experiments.append(cells)"
   ]
  },
  {
   "cell_type": "code",
   "execution_count": 3,
   "id": "sharing-providence",
   "metadata": {},
   "outputs": [
    {
     "data": {
      "text/plain": [
       "[['jurkat', 'lag16ic_tether', 'lag16ic'],\n",
       " ['jurkat', 'lag16ic_tether', 'lag16ic'],\n",
       " ['jurkat', 'ncam']]"
      ]
     },
     "execution_count": 3,
     "metadata": {},
     "output_type": "execute_result"
    }
   ],
   "source": [
    "experiments"
   ]
  },
  {
   "cell_type": "code",
   "execution_count": 4,
   "id": "unexpected-transition",
   "metadata": {},
   "outputs": [
    {
     "data": {
      "text/plain": [
       "Counter({'jurkat': 3, 'lag16ic_tether': 2, 'lag16ic': 2, 'ncam': 1})"
      ]
     },
     "execution_count": 4,
     "metadata": {},
     "output_type": "execute_result"
    }
   ],
   "source": [
    "from collections import Counter\n",
    "flat_exps = [cell \n",
    "             for exp in experiments\n",
    "                for cell in exp]\n",
    "cell_counts = Counter(flat_exps)\n",
    "cell_counts"
   ]
  },
  {
   "cell_type": "code",
   "execution_count": null,
   "id": "accomplished-console",
   "metadata": {
    "scrolled": false
   },
   "outputs": [
    {
     "name": "stdout",
     "output_type": "stream",
     "text": [
      "jurkat: \n",
      "Concentration? [cells/ml] 2.4e6\n",
      "In what volume? [ul] 500\n",
      "600.0ul gives 9 possible injections.\n",
      "lag16ic: \n",
      "Concentration? [cells/ml] 1.3e6\n",
      "In what volume? [ul] 500\n",
      "325.0ul gives 4 possible injections.\n",
      "ncam: \n"
     ]
    }
   ],
   "source": [
    "cell_set = set(flat_exps)\n",
    "cell_set\n",
    "\n",
    "target_conc = 2e6 # cells/ml\n",
    "inj_vol = 200 # ul\n",
    "single_cell_inj_vol = inj_vol/3 # how much volume of a single cell suspension to add to a pool for an injection\n",
    "\n",
    "# This number is based on initial protocol of mixing cells 1:1:1 at 2e6 and injecting 0.2ml\n",
    "# 2e6 cells/ml * 0.2ml = 400,000 cells / 3 cell types => 133,333 cells of one type\n",
    "single_cell_count = 133333.333\n",
    "\n",
    "\n",
    "\n",
    "default = True # we should just stick to the default 2e6 concentration unless special circumstances\n",
    "for cell in cell_set:\n",
    "    print(f\"{cell}: \")\n",
    "    c1 = float(input(\"Concentration? [cells/ml] \"))\n",
    "    v1 = int(input(\"In what volume? [ul] \"))\n",
    "    if not default:\n",
    "        c2 = float(input(\"Target concentration? [cells/ml]\"))\n",
    "    else:\n",
    "        c2 = target_conc\n",
    "    \n",
    "    # Final Volume at concentration\n",
    "    v2 = (c1/c2)*v1\n",
    "    injections = math.floor(v2/single_cell_inj_vol)\n",
    "    if injections < cell_counts[cell]:\n",
    "        print(\"Not enough volume at target concentration to provide for all experiments\")\n",
    "    print(f\"{v2}ul gives {injections} possible injections.\")"
   ]
  },
  {
   "cell_type": "code",
   "execution_count": null,
   "id": "disciplinary-journalist",
   "metadata": {},
   "outputs": [],
   "source": [
    "def reconcentrate(name, c1, v1, c2):\n",
    "    v2 = (c1/c2)*v1\n",
    "\n",
    "    print(f\"Cell {name}:\")\n",
    "    if v2 <= v1: # RESUSPEND\n",
    "    print(f\"* RESUSPEND: @ {v2}ul\")\n",
    "    return v2\n",
    "    elif v2 > v1: # TOP_OFF\n",
    "        top_off = v2 - v1\n",
    "    print(f\"* TOP OFF: with {top_off}ul to a total of {v2}ul\")\n",
    "        return v2\n",
    "    else:\n",
    "        print(\"This shouldnt occur?!\")"
   ]
  },
  {
   "cell_type": "markdown",
   "id": "overhead-pleasure",
   "metadata": {},
   "source": [
    "**New experiment? (Y/N)**\n",
    "\n",
    "**Enter cell populations separated by spaces**\n",
    "\n",
    "**Replicates? (1-3)**\n",
    "\n",
    "**\n"
   ]
  },
  {
   "cell_type": "code",
   "execution_count": null,
   "id": "robust-needle",
   "metadata": {},
   "outputs": [],
   "source": [
    "\n",
    "\n",
    "\n",
    "# Test input with TOP_OFF, RESUSPEND, and LESS_THAN_INJ conditions\n",
    "#cells = [(2.1e6, 500), (1.7e6, 500), (2.3e5, 500)]\n",
    "less_than_one_chip_test = [2.1e6, 1.7e6, 2.3e5]\n",
    "one_chip = [2.1e6, 1.7e6, 1.5e6]\n",
    "def pool_cells(cells, target_conc):\n",
    "    initial_vol = 500 # we resuspend our cells in 500ul to count\n",
    "    inj_vol = 200 # this is the volume we inject for on rates\n",
    "\n",
    "    lanes_per_chip = 6\n",
    "    chip_vol = lanes_per_chip * inj_vol\n",
    "    margin = inj_vol/2\n",
    "    \n",
    "    #print(f\"Input: {cells}\")\n",
    "    new_cells = [reconcentrate(i+1,c,initial_vol,target_conc) for i,c in enumerate(cells)]\n",
    "\n",
    "    limiting_vol = min(new_cells)\n",
    "    mixed_vol = 3 * limiting_vol # eventually replace 3 with how many cell types being run\n",
    "    runs_possible = math.floor(mixed_vol/inj_vol)\n",
    "\n",
    "\n",
    "    print(f\"Mixed volume is: {mixed_vol}ul\")\n",
    "    if runs_possible < lanes_per_chip + margin:\n",
    "        print(\"<!***!>\")\n",
    "        print(f\"WARNING: cannot run a full chip with this volume.\")\n",
    "    else:\n",
    "        pass\n",
    "    print(f\"Runs possible: {runs_possible}\")\n",
    "    print(f\">>> Combine {limiting_vol}ul of all cells together.\")\n",
    "    #print(new_cells)\n",
    "    \n",
    "pool_cells(one_chip, 2e6)\n"
   ]
  }
 ],
 "metadata": {
  "kernelspec": {
   "display_name": "Python 3",
   "language": "python",
   "name": "python3"
  },
  "language_info": {
   "codemirror_mode": {
    "name": "ipython",
    "version": 3
   },
   "file_extension": ".py",
   "mimetype": "text/x-python",
   "name": "python",
   "nbconvert_exporter": "python",
   "pygments_lexer": "ipython3",
   "version": "3.9.4"
  }
 },
 "nbformat": 4,
 "nbformat_minor": 5
}
